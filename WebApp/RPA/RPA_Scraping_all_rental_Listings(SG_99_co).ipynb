{
 "cells": [
  {
   "cell_type": "code",
   "execution_count": null,
   "metadata": {},
   "outputs": [],
   "source": [
    "import pandas as pd\n",
    "import tagui as t"
   ]
  },
  {
   "cell_type": "code",
   "execution_count": null,
   "metadata": {},
   "outputs": [],
   "source": [
    "file = pd.read_csv('Stations.csv')"
   ]
  },
  {
   "cell_type": "code",
   "execution_count": null,
   "metadata": {},
   "outputs": [],
   "source": [
    "stations = file['Stations'].tolist()"
   ]
  },
  {
   "cell_type": "code",
   "execution_count": null,
   "metadata": {},
   "outputs": [],
   "source": [
    "# j = 3\n",
    "# print(f'The list is : {mrts[j]}')"
   ]
  },
  {
   "cell_type": "code",
   "execution_count": null,
   "metadata": {},
   "outputs": [],
   "source": [
    "len(stations[:84])"
   ]
  },
  {
   "cell_type": "code",
   "execution_count": null,
   "metadata": {},
   "outputs": [],
   "source": [
    "len(stations[84:])"
   ]
  },
  {
   "cell_type": "code",
   "execution_count": null,
   "metadata": {},
   "outputs": [],
   "source": [
    "set1 = stations[84:96]\n",
    "set2 = stations[96:108]\n",
    "set3 = stations[108:120]\n",
    "set4 = stations[120:130]\n",
    "set5 = stations[130:140]\n",
    "set6 = stations[140:150]\n",
    "set7 = stations[150:160]\n",
    "set8 = stations[160:172]\n",
    "\n",
    "print(set1)\n",
    "print(len (set1))\n",
    "print(set2)\n",
    "print(len (set2))\n",
    "print(set3)\n",
    "print(len (set3))\n",
    "print(set4)\n",
    "print(len (set4))\n",
    "print(set5)\n",
    "print(len (set5))\n",
    "print(set6)\n",
    "print(len (set6))\n",
    "print(set7)\n",
    "print(len (set7))\n",
    "print(set8)\n",
    "print(len (set8))"
   ]
  },
  {
   "cell_type": "code",
   "execution_count": null,
   "metadata": {},
   "outputs": [],
   "source": [
    "t.close()"
   ]
  },
  {
   "cell_type": "code",
   "execution_count": null,
   "metadata": {},
   "outputs": [],
   "source": [
    "mrts = set8\n",
    "#budget = 2000\n",
    "\n",
    "# links = []\n",
    "# web = 'https://99.co'\n",
    "\n",
    "t.init()\n",
    "t.url('https://99.co/')\n",
    "t.wait(7)\n",
    "\n",
    "for j in range (0, len(mrts)):\n",
    "    \n",
    "    print (f'Loop Start : {mrts[j]}')\n",
    "    curr_sta = []\n",
    "    Listings = []\n",
    "    listed_for = []\n",
    "    \n",
    "    t.click('//a[@href=\"/singapore/rent\"]')\n",
    "    t.wait(8)\n",
    "    t.click('//label[@for=\"showMapToggle\"]')\n",
    "    t.wait(10)\n",
    "#     t.click('//label[@for=\"Price range \"]')\n",
    "#     t.wait()\n",
    "#     t.type('//input[@name=\"price_max\"]', f'{budget}')\n",
    "#     t.click('(//button[@class=\"_1LLSL qV_kc\"])[2]')\n",
    "#     t.wait(1)\n",
    "    t.click('//label[@class=\"ut-m-0 xJ50G\"]')\n",
    "    t.click('//input[@value=\"room\"]')\n",
    "    t.click('//button[@data-cy=\"applyFilters\"]')\n",
    "    t.wait(2)\n",
    "    t.click('//input[@placeholder=\"Search by MRT, condo or address\"]')\n",
    "    t.click('//i[@class=\"_1sZqz icon-subway_station\"]')\n",
    "    \n",
    "    prefix = [\"sg\",\"mrt\"]\n",
    "    suffix = mrts[j].lower()\n",
    "    suffix = suffix.split(' ')\n",
    "#     station = prefix + suffix\n",
    "    station = '-'.join(suffix)\n",
    "#     print(station)\n",
    "    t.wait(3)\n",
    "    t.click(f'//input[contains(@value,\"{station}\")]')\n",
    "    t.click('//button[@data-cy=\"applyFilters\"]')\n",
    "    t.wait(5)\n",
    "    \n",
    "    go = True\n",
    "    while go:\n",
    "        \n",
    "        \n",
    "        items_no = t.count('//div[contains(@data-testid,\"searchListingItem\")]')\n",
    "\n",
    "        for i in range(1, items_no+1):\n",
    "\n",
    "            prop = t.read(f'(//div[contains(@data-testid,\"searchListingItem\")])[{i}]//a/@title')\n",
    "            listed_price = t.read(f'(//div[contains(@data-testid,\"searchListingItem\")])[{i}]//li[2]/@content')\n",
    "\n",
    "    #         link = t.read(f'(//div[contains(@data-testid,\"searchListingItem\")])[{i}]//a/@href')\n",
    "    #         link = web+link\n",
    "\n",
    "            Listings.append(prop) \n",
    "            listed_for.append(listed_price)\n",
    "            curr_sta.append(mrts[j])\n",
    "    #         links.append(link)\n",
    "    \n",
    "        if t.present('//li[@class=\"next\"]'): # the xpath of next page button\n",
    "            t.click('//li[@class=\"next\"]')\n",
    "            t.wait(5)\n",
    "        else:\n",
    "            print (f'Loop End : {mrts[j]}')\n",
    "            prop_pricing = pd.DataFrame({'Property' : Listings,\n",
    "                          'Price' : listed_for},\n",
    "                         columns=['Property', 'Price'])\n",
    "\n",
    "            prop_pricing.to_csv(f\"Rental_listings_SG(Jan-Feb23)/{mrts[j]}.csv\")\n",
    "            go = False\n",
    "            \n",
    "            del prop_pricing\n",
    "            \n",
    "            break\n",
    "    \n",
    "    t.click('//*[contains(@class, \"_3lLrR\")]')\n",
    "    t.wait(5)\n",
    "    \n",
    "\n",
    "t.close()\n",
    "        \n",
    "print (Listings)\n",
    "print (listed_for)\n",
    "# print (links)"
   ]
  },
  {
   "cell_type": "code",
   "execution_count": null,
   "metadata": {},
   "outputs": [],
   "source": []
  },
  {
   "cell_type": "code",
   "execution_count": null,
   "metadata": {},
   "outputs": [],
   "source": []
  },
  {
   "cell_type": "code",
   "execution_count": null,
   "metadata": {},
   "outputs": [],
   "source": []
  }
 ],
 "metadata": {
  "kernelspec": {
   "display_name": "Python 3 (ipykernel)",
   "language": "python",
   "name": "python3"
  },
  "language_info": {
   "codemirror_mode": {
    "name": "ipython",
    "version": 3
   },
   "file_extension": ".py",
   "mimetype": "text/x-python",
   "name": "python",
   "nbconvert_exporter": "python",
   "pygments_lexer": "ipython3",
   "version": "3.9.12"
  }
 },
 "nbformat": 4,
 "nbformat_minor": 4
}
